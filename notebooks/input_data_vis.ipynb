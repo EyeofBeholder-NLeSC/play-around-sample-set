{
 "cells": [
  {
   "cell_type": "code",
   "execution_count": 17,
   "metadata": {},
   "outputs": [],
   "source": [
    "import seaborn as sns\n",
    "import pandas as pd\n",
    "import ipywidgets as widgets\n",
    "from ipywidgets import interact\n",
    "import matplotlib.pyplot as plt\n",
    "from wordcloud import WordCloud\n",
    "import nltk\n",
    "\n",
    "df = pd.read_csv(\"../data/multidimensional_with_crt.csv\")\n",
    "pd.set_option('display.max_columns', 100)\n",
    "df.sample(5)\n",
    "\n",
    "STOP_WORDS = nltk.corpus.stopwords.words()"
   ]
  },
  {
   "cell_type": "code",
   "execution_count": 2,
   "metadata": {},
   "outputs": [
    {
     "data": {
      "application/vnd.jupyter.widget-view+json": {
       "model_id": "d7b99eee847141bab28f240ae9ff93bf",
       "version_major": 2,
       "version_minor": 0
      },
      "text/plain": [
       "interactive(children=(Dropdown(description='Column: ', index=7, options=('unit_id', 'tries_amount', 'questionn…"
      ]
     },
     "metadata": {},
     "output_type": "display_data"
    },
    {
     "data": {
      "text/plain": [
       "<function __main__.draw_histgram(column)>"
      ]
     },
     "execution_count": 2,
     "metadata": {},
     "output_type": "execute_result"
    }
   ],
   "source": [
    "# statistics of single part of data\n",
    "w_select_column = widgets.Dropdown(\n",
    "    options=df.columns, \n",
    "    value=\"q_0_age_answer\", \n",
    "    description=\"Column: \"\n",
    ")\n",
    "\n",
    "def draw_histgram(column):\n",
    "    sns.histplot(\n",
    "        data=df, \n",
    "        y=column, \n",
    "        stat=\"percent\"\n",
    "    )\n",
    "    plt.show()\n",
    "\n",
    "interact(draw_histgram, column=w_select_column)"
   ]
  },
  {
   "cell_type": "code",
   "execution_count": 7,
   "metadata": {},
   "outputs": [
    {
     "data": {
      "application/vnd.jupyter.widget-view+json": {
       "model_id": "01da8aed1e4842fa822f73aa11f36f32",
       "version_major": 2,
       "version_minor": 0
      },
      "text/plain": [
       "interactive(children=(Dropdown(description='Worker: ', index=7, options=('unit_id', 'tries_amount', 'questionn…"
      ]
     },
     "metadata": {},
     "output_type": "display_data"
    },
    {
     "data": {
      "text/plain": [
       "<function __main__.draw_violin_plot(worker_group, assessment_dimension)>"
      ]
     },
     "execution_count": 7,
     "metadata": {},
     "output_type": "execute_result"
    }
   ],
   "source": [
    "# exmaple of relationship between different parts\n",
    "w_select_worker_group = widgets.Dropdown(\n",
    "    options=df.columns, \n",
    "    value=\"q_0_age_answer\", \n",
    "    description=\"Worker: \"\n",
    ")\n",
    "w_select_assessment_dimension = widgets.Dropdown(\n",
    "    options=df.columns, \n",
    "    value=\"doc_correctness_value\", \n",
    "    description=\"Assessment: \"\n",
    ")\n",
    "\n",
    "def draw_violin_plot(worker_group, assessment_dimension):\n",
    "    sns.histplot(y=worker_group, x=assessment_dimension, data=df.astype(\"category\"), cbar=True)\n",
    "    sns.violinplot(y=worker_group, x=assessment_dimension, data=df)\n",
    "    plt.show()\n",
    "\n",
    "interact(\n",
    "    draw_violin_plot, \n",
    "    worker_group=w_select_worker_group, \n",
    "    assessment_dimension=w_select_assessment_dimension, \n",
    ")"
   ]
  },
  {
   "cell_type": "code",
   "execution_count": 35,
   "metadata": {},
   "outputs": [
    {
     "data": {
      "application/vnd.jupyter.widget-view+json": {
       "model_id": "1bf05e4912c64f1badcddd20f03eaae8",
       "version_major": 2,
       "version_minor": 0
      },
      "text/plain": [
       "interactive(children=(Dropdown(description='Worker: ', index=7, options=('unit_id', 'tries_amount', 'questionn…"
      ]
     },
     "metadata": {},
     "output_type": "display_data"
    },
    {
     "data": {
      "text/plain": [
       "<function __main__.draw_wordcloud_grid(worker_group, assessment_dimension)>"
      ]
     },
     "execution_count": 35,
     "metadata": {},
     "output_type": "execute_result"
    }
   ],
   "source": [
    "def draw_wordcloud_grid(worker_group, assessment_dimension):\n",
    "    worker_groups = df[worker_group].unique()\n",
    "    assessment_dimensions = df[assessment_dimension].unique()\n",
    "    dim_worker = worker_groups.size\n",
    "    dim_assessment = assessment_dimensions.size\n",
    "    fig, axs = plt.subplots(dim_worker, dim_assessment)\n",
    "    fig.set_size_inches(dim_assessment * 5, dim_worker * 5)\n",
    "\n",
    "    for r in range(dim_worker):\n",
    "        for c in range(dim_assessment):\n",
    "            wg = worker_groups[r]\n",
    "            ad = assessment_dimensions[c]\n",
    "            df_temp = df[(df[worker_group] == wg) & (df[assessment_dimension] == ad)]\n",
    "            \n",
    "            # generate word cloud for the sepecific group\n",
    "            wc = WordCloud(collocations=False, background_color=\"white\", width=800, height=800, stopwords=STOP_WORDS).generate(\" \".join(df_temp[\"doc_statement\"]))\n",
    "            axs[r, c].imshow(wc, interpolation=\"bilinear\")\n",
    "            axs[r, c].axis(\"off\")\n",
    "            axs[r, c].set_title(\"%s: %s \\n %s: %s\" % (worker_group, wg, assessment_dimension, ad))\n",
    "    plt.draw()\n",
    "\n",
    "interact(\n",
    "    draw_wordcloud_grid, \n",
    "    worker_group=w_select_worker_group, \n",
    "    assessment_dimension=w_select_assessment_dimension\n",
    ")"
   ]
  }
 ],
 "metadata": {
  "interpreter": {
   "hash": "3cbba820b4bdb590734698efdc149bc5c36a8b69601907c59af4d958a3ed7267"
  },
  "kernelspec": {
   "display_name": "Python 3.9.10 ('eda')",
   "language": "python",
   "name": "python3"
  },
  "language_info": {
   "codemirror_mode": {
    "name": "ipython",
    "version": 3
   },
   "file_extension": ".py",
   "mimetype": "text/x-python",
   "name": "python",
   "nbconvert_exporter": "python",
   "pygments_lexer": "ipython3",
   "version": "3.9.10"
  },
  "orig_nbformat": 4
 },
 "nbformat": 4,
 "nbformat_minor": 2
}
