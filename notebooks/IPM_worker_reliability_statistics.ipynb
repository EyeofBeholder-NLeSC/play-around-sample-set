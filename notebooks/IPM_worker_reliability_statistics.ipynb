{
 "cells": [
  {
   "cell_type": "markdown",
   "metadata": {},
   "source": [
    "Divide workers into groups based on their answer to the questionaire and see which group seams to be more reliable in generl."
   ]
  },
  {
   "cell_type": "code",
   "execution_count": 113,
   "metadata": {},
   "outputs": [
    {
     "data": {
      "text/html": [
       "<div>\n",
       "<style scoped>\n",
       "    .dataframe tbody tr th:only-of-type {\n",
       "        vertical-align: middle;\n",
       "    }\n",
       "\n",
       "    .dataframe tbody tr th {\n",
       "        vertical-align: top;\n",
       "    }\n",
       "\n",
       "    .dataframe thead th {\n",
       "        text-align: right;\n",
       "    }\n",
       "</style>\n",
       "<table border=\"1\" class=\"dataframe\">\n",
       "  <thead>\n",
       "    <tr style=\"text-align: right;\">\n",
       "      <th></th>\n",
       "      <th>unit_id</th>\n",
       "      <th>tries_amount</th>\n",
       "      <th>questionnaire_amount</th>\n",
       "      <th>dimensions_amount</th>\n",
       "      <th>document_amount</th>\n",
       "      <th>current_try</th>\n",
       "      <th>q_0_age_question</th>\n",
       "      <th>q_0_age_answer</th>\n",
       "      <th>q_0_age_value</th>\n",
       "      <th>q_0_school_question</th>\n",
       "      <th>q_0_school_answer</th>\n",
       "      <th>q_0_school_value</th>\n",
       "      <th>q_0_taxes_question</th>\n",
       "      <th>q_0_taxes_answer</th>\n",
       "      <th>q_0_taxes_value</th>\n",
       "      <th>q_0_political_views_question</th>\n",
       "      <th>q_0_political_views_answer</th>\n",
       "      <th>q_0_political_views_value</th>\n",
       "      <th>q_0_consideration_question</th>\n",
       "      <th>q_0_consideration_answer</th>\n",
       "      <th>q_0_consideration_value</th>\n",
       "      <th>q_0_southern_border_question</th>\n",
       "      <th>q_0_southern_border_answer</th>\n",
       "      <th>q_0_southern_border_value</th>\n",
       "      <th>q_0_environment_question</th>\n",
       "      <th>q_0_environment_answer</th>\n",
       "      <th>q_0_environment_value</th>\n",
       "      <th>q_0_time_elapsed</th>\n",
       "      <th>q_0_accesses</th>\n",
       "      <th>q_1_farmers_question</th>\n",
       "      <th>q_1_farmers_answer</th>\n",
       "      <th>q_1_farmers_value</th>\n",
       "      <th>q_1_time_elapsed</th>\n",
       "      <th>q_1_accesses</th>\n",
       "      <th>q_2_marks_question</th>\n",
       "      <th>q_2_marks_answer</th>\n",
       "      <th>q_2_marks_value</th>\n",
       "      <th>q_2_time_elapsed</th>\n",
       "      <th>q_2_accesses</th>\n",
       "      <th>q_3_athletics_question</th>\n",
       "      <th>q_3_athletics_answer</th>\n",
       "      <th>q_3_athletics_value</th>\n",
       "      <th>q_3_time_elapsed</th>\n",
       "      <th>q_3_accesses</th>\n",
       "      <th>doc_index</th>\n",
       "      <th>doc_name</th>\n",
       "      <th>doc_statement</th>\n",
       "      <th>doc_claimant</th>\n",
       "      <th>doc_date</th>\n",
       "      <th>doc_originatedFrom</th>\n",
       "      <th>doc_ground_truth_value</th>\n",
       "      <th>doc_ground_truth_abc_label</th>\n",
       "      <th>doc_ground_truth_abc_verdict</th>\n",
       "      <th>doc_ground_truth_politifact_label</th>\n",
       "      <th>doc_source</th>\n",
       "      <th>doc_overall-truthfulness_value</th>\n",
       "      <th>doc_overall-truthfulness_label</th>\n",
       "      <th>doc_overall-truthfulness_justification</th>\n",
       "      <th>doc_overall-truthfulness_url</th>\n",
       "      <th>doc_confidence_value</th>\n",
       "      <th>doc_confidence_label</th>\n",
       "      <th>doc_confidence_justification</th>\n",
       "      <th>doc_confidence_url</th>\n",
       "      <th>doc_correctness_value</th>\n",
       "      <th>doc_correctness_label</th>\n",
       "      <th>doc_correctness_justification</th>\n",
       "      <th>doc_correctness_url</th>\n",
       "      <th>doc_neutrality_value</th>\n",
       "      <th>doc_neutrality_label</th>\n",
       "      <th>doc_neutrality_justification</th>\n",
       "      <th>doc_neutrality_url</th>\n",
       "      <th>doc_comprehensibility_value</th>\n",
       "      <th>doc_comprehensibility_label</th>\n",
       "      <th>doc_comprehensibility_justification</th>\n",
       "      <th>doc_comprehensibility_url</th>\n",
       "      <th>doc_precision_value</th>\n",
       "      <th>doc_precision_label</th>\n",
       "      <th>doc_precision_justification</th>\n",
       "      <th>doc_precision_url</th>\n",
       "      <th>doc_completeness_value</th>\n",
       "      <th>doc_completeness_label</th>\n",
       "      <th>doc_completeness_justification</th>\n",
       "      <th>doc_completeness_url</th>\n",
       "      <th>doc_speaker's-trustworthiness_value</th>\n",
       "      <th>doc_speaker's-trustworthiness_label</th>\n",
       "      <th>doc_speaker's-trustworthiness_justification</th>\n",
       "      <th>doc_speaker's-trustworthiness_url</th>\n",
       "      <th>doc_informativeness_value</th>\n",
       "      <th>doc_informativeness_label</th>\n",
       "      <th>doc_informativeness_justification</th>\n",
       "      <th>doc_informativeness_url</th>\n",
       "      <th>doc_accesses</th>\n",
       "      <th>doc_time_elapsed</th>\n",
       "      <th>q_1_farmers_score</th>\n",
       "      <th>q_2_marks_score</th>\n",
       "      <th>q_3_athletics_score</th>\n",
       "      <th>doc_assessment_error</th>\n",
       "    </tr>\n",
       "  </thead>\n",
       "  <tbody>\n",
       "    <tr>\n",
       "      <th>1658</th>\n",
       "      <td>unit_102</td>\n",
       "      <td>10</td>\n",
       "      <td>4</td>\n",
       "      <td>9</td>\n",
       "      <td>11</td>\n",
       "      <td>1</td>\n",
       "      <td>What is your age range?</td>\n",
       "      <td>36-50</td>\n",
       "      <td>3.0</td>\n",
       "      <td>What is the highest level of school you have c...</td>\n",
       "      <td>Postgraduate or professional degree, including...</td>\n",
       "      <td>5.0</td>\n",
       "      <td>Last year what was your total family income fr...</td>\n",
       "      <td>40,000 to less than 50,000</td>\n",
       "      <td>4.0</td>\n",
       "      <td>In general, would you describe your political ...</td>\n",
       "      <td>Very conservative</td>\n",
       "      <td>0.0</td>\n",
       "      <td>In politics today, do you consider yourself a</td>\n",
       "      <td>Republican</td>\n",
       "      <td>0.0</td>\n",
       "      <td>Should the U.S. build a wall along the souther...</td>\n",
       "      <td>Agree</td>\n",
       "      <td>0.0</td>\n",
       "      <td>Should the government increase environmental r...</td>\n",
       "      <td>Agree</td>\n",
       "      <td>0.0</td>\n",
       "      <td>260.09</td>\n",
       "      <td>1</td>\n",
       "      <td>If three farmers can plant three trees in thre...</td>\n",
       "      <td>NaN</td>\n",
       "      <td>4.0</td>\n",
       "      <td>8.75</td>\n",
       "      <td>1</td>\n",
       "      <td>Sean received both the 5th highest and the 5th...</td>\n",
       "      <td>NaN</td>\n",
       "      <td>2.0</td>\n",
       "      <td>7.70</td>\n",
       "      <td>1</td>\n",
       "      <td>In an athletics team, females are four times m...</td>\n",
       "      <td>NaN</td>\n",
       "      <td>1.0</td>\n",
       "      <td>8.03</td>\n",
       "      <td>1</td>\n",
       "      <td>8.0</td>\n",
       "      <td>REP_MOSTLYTRUE_doc7</td>\n",
       "      <td>We in this state saw more job creation in the ...</td>\n",
       "      <td>Scott Walker</td>\n",
       "      <td>2014.0</td>\n",
       "      <td>a news release</td>\n",
       "      <td>2.0</td>\n",
       "      <td>NaN</td>\n",
       "      <td>NaN</td>\n",
       "      <td>mostly-true</td>\n",
       "      <td>politifact</td>\n",
       "      <td>0.0</td>\n",
       "      <td>neither-agree-nor-disagree</td>\n",
       "      <td>NaN</td>\n",
       "      <td>https://madison.com/ct/news/local/writers/jess...</td>\n",
       "      <td>1.0</td>\n",
       "      <td>agree</td>\n",
       "      <td>NaN</td>\n",
       "      <td>NaN</td>\n",
       "      <td>2.0</td>\n",
       "      <td>completely-agree</td>\n",
       "      <td>NaN</td>\n",
       "      <td>NaN</td>\n",
       "      <td>1.0</td>\n",
       "      <td>agree</td>\n",
       "      <td>NaN</td>\n",
       "      <td>NaN</td>\n",
       "      <td>0.0</td>\n",
       "      <td>neither-agree-nor-disagree</td>\n",
       "      <td>NaN</td>\n",
       "      <td>NaN</td>\n",
       "      <td>-1.0</td>\n",
       "      <td>disagree</td>\n",
       "      <td>NaN</td>\n",
       "      <td>NaN</td>\n",
       "      <td>0.0</td>\n",
       "      <td>neither-agree-nor-disagree</td>\n",
       "      <td>NaN</td>\n",
       "      <td>NaN</td>\n",
       "      <td>1.0</td>\n",
       "      <td>agree</td>\n",
       "      <td>NaN</td>\n",
       "      <td>NaN</td>\n",
       "      <td>0.0</td>\n",
       "      <td>neither-agree-nor-disagree</td>\n",
       "      <td>NaN</td>\n",
       "      <td>NaN</td>\n",
       "      <td>1.0</td>\n",
       "      <td>35.29</td>\n",
       "      <td>0</td>\n",
       "      <td>0</td>\n",
       "      <td>0</td>\n",
       "      <td>0.0</td>\n",
       "    </tr>\n",
       "    <tr>\n",
       "      <th>2038</th>\n",
       "      <td>unit_176</td>\n",
       "      <td>10</td>\n",
       "      <td>4</td>\n",
       "      <td>9</td>\n",
       "      <td>11</td>\n",
       "      <td>1</td>\n",
       "      <td>What is your age range?</td>\n",
       "      <td>50-80</td>\n",
       "      <td>4.0</td>\n",
       "      <td>What is the highest level of school you have c...</td>\n",
       "      <td>Four year college degree/bachelor’s degree</td>\n",
       "      <td>3.0</td>\n",
       "      <td>Last year what was your total family income fr...</td>\n",
       "      <td>75,000 to less than 100,000</td>\n",
       "      <td>6.0</td>\n",
       "      <td>In general, would you describe your political ...</td>\n",
       "      <td>Conservative</td>\n",
       "      <td>1.0</td>\n",
       "      <td>In politics today, do you consider yourself a</td>\n",
       "      <td>Independent</td>\n",
       "      <td>2.0</td>\n",
       "      <td>Should the U.S. build a wall along the souther...</td>\n",
       "      <td>Disagree</td>\n",
       "      <td>1.0</td>\n",
       "      <td>Should the government increase environmental r...</td>\n",
       "      <td>Disagree</td>\n",
       "      <td>1.0</td>\n",
       "      <td>43.02</td>\n",
       "      <td>1</td>\n",
       "      <td>If three farmers can plant three trees in thre...</td>\n",
       "      <td>NaN</td>\n",
       "      <td>3.0</td>\n",
       "      <td>30.09</td>\n",
       "      <td>1</td>\n",
       "      <td>Sean received both the 5th highest and the 5th...</td>\n",
       "      <td>NaN</td>\n",
       "      <td>9.0</td>\n",
       "      <td>16.89</td>\n",
       "      <td>1</td>\n",
       "      <td>In an athletics team, females are four times m...</td>\n",
       "      <td>NaN</td>\n",
       "      <td>4.0</td>\n",
       "      <td>20.55</td>\n",
       "      <td>1</td>\n",
       "      <td>3.0</td>\n",
       "      <td>HIGH</td>\n",
       "      <td>Yes, We can!</td>\n",
       "      <td>Barack Obama</td>\n",
       "      <td>2008.0</td>\n",
       "      <td>Public appearance</td>\n",
       "      <td>1.0</td>\n",
       "      <td>NaN</td>\n",
       "      <td>NaN</td>\n",
       "      <td>NaN</td>\n",
       "      <td>gold_question</td>\n",
       "      <td>0.0</td>\n",
       "      <td>neither-agree-nor-disagree</td>\n",
       "      <td>NaN</td>\n",
       "      <td>https://www.washingtonpost.com/news/morning-mi...</td>\n",
       "      <td>1.0</td>\n",
       "      <td>agree</td>\n",
       "      <td>NaN</td>\n",
       "      <td>NaN</td>\n",
       "      <td>0.0</td>\n",
       "      <td>neither-agree-nor-disagree</td>\n",
       "      <td>NaN</td>\n",
       "      <td>NaN</td>\n",
       "      <td>-1.0</td>\n",
       "      <td>disagree</td>\n",
       "      <td>NaN</td>\n",
       "      <td>NaN</td>\n",
       "      <td>-1.0</td>\n",
       "      <td>disagree</td>\n",
       "      <td>NaN</td>\n",
       "      <td>NaN</td>\n",
       "      <td>-1.0</td>\n",
       "      <td>disagree</td>\n",
       "      <td>NaN</td>\n",
       "      <td>NaN</td>\n",
       "      <td>-2.0</td>\n",
       "      <td>completely-disagree</td>\n",
       "      <td>NaN</td>\n",
       "      <td>NaN</td>\n",
       "      <td>-1.0</td>\n",
       "      <td>disagree</td>\n",
       "      <td>NaN</td>\n",
       "      <td>NaN</td>\n",
       "      <td>-1.0</td>\n",
       "      <td>disagree</td>\n",
       "      <td>NaN</td>\n",
       "      <td>NaN</td>\n",
       "      <td>1.0</td>\n",
       "      <td>70.96</td>\n",
       "      <td>1</td>\n",
       "      <td>1</td>\n",
       "      <td>0</td>\n",
       "      <td>1.0</td>\n",
       "    </tr>\n",
       "    <tr>\n",
       "      <th>253</th>\n",
       "      <td>unit_47</td>\n",
       "      <td>10</td>\n",
       "      <td>4</td>\n",
       "      <td>9</td>\n",
       "      <td>11</td>\n",
       "      <td>1</td>\n",
       "      <td>What is your age range?</td>\n",
       "      <td>50-80</td>\n",
       "      <td>4.0</td>\n",
       "      <td>What is the highest level of school you have c...</td>\n",
       "      <td>Some college (some community college, associat...</td>\n",
       "      <td>2.0</td>\n",
       "      <td>Last year what was your total family income fr...</td>\n",
       "      <td>40,000 to less than 50,000</td>\n",
       "      <td>4.0</td>\n",
       "      <td>In general, would you describe your political ...</td>\n",
       "      <td>Liberal</td>\n",
       "      <td>3.0</td>\n",
       "      <td>In politics today, do you consider yourself a</td>\n",
       "      <td>Democrat</td>\n",
       "      <td>1.0</td>\n",
       "      <td>Should the U.S. build a wall along the souther...</td>\n",
       "      <td>Disagree</td>\n",
       "      <td>1.0</td>\n",
       "      <td>Should the government increase environmental r...</td>\n",
       "      <td>Agree</td>\n",
       "      <td>0.0</td>\n",
       "      <td>24.16</td>\n",
       "      <td>1</td>\n",
       "      <td>If three farmers can plant three trees in thre...</td>\n",
       "      <td>NaN</td>\n",
       "      <td>3.0</td>\n",
       "      <td>25.80</td>\n",
       "      <td>1</td>\n",
       "      <td>Sean received both the 5th highest and the 5th...</td>\n",
       "      <td>NaN</td>\n",
       "      <td>9.0</td>\n",
       "      <td>36.70</td>\n",
       "      <td>1</td>\n",
       "      <td>In an athletics team, females are four times m...</td>\n",
       "      <td>NaN</td>\n",
       "      <td>4.0</td>\n",
       "      <td>18.67</td>\n",
       "      <td>1</td>\n",
       "      <td>0.0</td>\n",
       "      <td>DEM_MOSTLYTRUE_doc5</td>\n",
       "      <td>Carly Fiorina shes against banning assault wea...</td>\n",
       "      <td>Barbara Boxer</td>\n",
       "      <td>2010.0</td>\n",
       "      <td>ad</td>\n",
       "      <td>3.0</td>\n",
       "      <td>NaN</td>\n",
       "      <td>NaN</td>\n",
       "      <td>mostly-true</td>\n",
       "      <td>politifact</td>\n",
       "      <td>2.0</td>\n",
       "      <td>completely-agree</td>\n",
       "      <td>NaN</td>\n",
       "      <td>https://www.mercurynews.com/2010/06/29/fiorina...</td>\n",
       "      <td>0.0</td>\n",
       "      <td>neither-agree-nor-disagree</td>\n",
       "      <td>NaN</td>\n",
       "      <td>NaN</td>\n",
       "      <td>2.0</td>\n",
       "      <td>completely-agree</td>\n",
       "      <td>NaN</td>\n",
       "      <td>NaN</td>\n",
       "      <td>2.0</td>\n",
       "      <td>completely-agree</td>\n",
       "      <td>NaN</td>\n",
       "      <td>NaN</td>\n",
       "      <td>2.0</td>\n",
       "      <td>completely-agree</td>\n",
       "      <td>NaN</td>\n",
       "      <td>NaN</td>\n",
       "      <td>1.0</td>\n",
       "      <td>agree</td>\n",
       "      <td>NaN</td>\n",
       "      <td>NaN</td>\n",
       "      <td>1.0</td>\n",
       "      <td>agree</td>\n",
       "      <td>NaN</td>\n",
       "      <td>NaN</td>\n",
       "      <td>2.0</td>\n",
       "      <td>completely-agree</td>\n",
       "      <td>NaN</td>\n",
       "      <td>NaN</td>\n",
       "      <td>1.0</td>\n",
       "      <td>agree</td>\n",
       "      <td>NaN</td>\n",
       "      <td>NaN</td>\n",
       "      <td>1.0</td>\n",
       "      <td>262.26</td>\n",
       "      <td>1</td>\n",
       "      <td>1</td>\n",
       "      <td>0</td>\n",
       "      <td>1.0</td>\n",
       "    </tr>\n",
       "    <tr>\n",
       "      <th>7</th>\n",
       "      <td>unit_1</td>\n",
       "      <td>10</td>\n",
       "      <td>4</td>\n",
       "      <td>9</td>\n",
       "      <td>11</td>\n",
       "      <td>1</td>\n",
       "      <td>What is your age range?</td>\n",
       "      <td>26-35</td>\n",
       "      <td>2.0</td>\n",
       "      <td>What is the highest level of school you have c...</td>\n",
       "      <td>Some college (some community college, associat...</td>\n",
       "      <td>2.0</td>\n",
       "      <td>Last year what was your total family income fr...</td>\n",
       "      <td>30,000 to less than 40,000</td>\n",
       "      <td>3.0</td>\n",
       "      <td>In general, would you describe your political ...</td>\n",
       "      <td>Very liberal</td>\n",
       "      <td>4.0</td>\n",
       "      <td>In politics today, do you consider yourself a</td>\n",
       "      <td>Independent</td>\n",
       "      <td>2.0</td>\n",
       "      <td>Should the U.S. build a wall along the souther...</td>\n",
       "      <td>Disagree</td>\n",
       "      <td>1.0</td>\n",
       "      <td>Should the government increase environmental r...</td>\n",
       "      <td>Agree</td>\n",
       "      <td>0.0</td>\n",
       "      <td>38.60</td>\n",
       "      <td>1</td>\n",
       "      <td>If three farmers can plant three trees in thre...</td>\n",
       "      <td>NaN</td>\n",
       "      <td>1.0</td>\n",
       "      <td>17.98</td>\n",
       "      <td>1</td>\n",
       "      <td>Sean received both the 5th highest and the 5th...</td>\n",
       "      <td>NaN</td>\n",
       "      <td>9.0</td>\n",
       "      <td>23.91</td>\n",
       "      <td>1</td>\n",
       "      <td>In an athletics team, females are four times m...</td>\n",
       "      <td>NaN</td>\n",
       "      <td>4.0</td>\n",
       "      <td>274.19</td>\n",
       "      <td>1</td>\n",
       "      <td>7.0</td>\n",
       "      <td>DEM_MOSTLYTRUE_doc10</td>\n",
       "      <td>Says in his years as a Texas legislator we pas...</td>\n",
       "      <td>Paul Sadler</td>\n",
       "      <td>2012.0</td>\n",
       "      <td>social media</td>\n",
       "      <td>4.0</td>\n",
       "      <td>NaN</td>\n",
       "      <td>NaN</td>\n",
       "      <td>mostly-true</td>\n",
       "      <td>politifact</td>\n",
       "      <td>2.0</td>\n",
       "      <td>completely-agree</td>\n",
       "      <td>NaN</td>\n",
       "      <td>https://senate.ontheissues.org/Social/Paul_Sad...</td>\n",
       "      <td>0.0</td>\n",
       "      <td>neither-agree-nor-disagree</td>\n",
       "      <td>NaN</td>\n",
       "      <td>NaN</td>\n",
       "      <td>2.0</td>\n",
       "      <td>completely-agree</td>\n",
       "      <td>NaN</td>\n",
       "      <td>NaN</td>\n",
       "      <td>2.0</td>\n",
       "      <td>completely-agree</td>\n",
       "      <td>NaN</td>\n",
       "      <td>NaN</td>\n",
       "      <td>2.0</td>\n",
       "      <td>completely-agree</td>\n",
       "      <td>NaN</td>\n",
       "      <td>NaN</td>\n",
       "      <td>2.0</td>\n",
       "      <td>completely-agree</td>\n",
       "      <td>NaN</td>\n",
       "      <td>NaN</td>\n",
       "      <td>2.0</td>\n",
       "      <td>completely-agree</td>\n",
       "      <td>NaN</td>\n",
       "      <td>NaN</td>\n",
       "      <td>2.0</td>\n",
       "      <td>completely-agree</td>\n",
       "      <td>NaN</td>\n",
       "      <td>NaN</td>\n",
       "      <td>2.0</td>\n",
       "      <td>completely-agree</td>\n",
       "      <td>NaN</td>\n",
       "      <td>NaN</td>\n",
       "      <td>1.0</td>\n",
       "      <td>52.74</td>\n",
       "      <td>0</td>\n",
       "      <td>1</td>\n",
       "      <td>0</td>\n",
       "      <td>0.0</td>\n",
       "    </tr>\n",
       "    <tr>\n",
       "      <th>762</th>\n",
       "      <td>unit_139</td>\n",
       "      <td>10</td>\n",
       "      <td>4</td>\n",
       "      <td>9</td>\n",
       "      <td>11</td>\n",
       "      <td>1</td>\n",
       "      <td>What is your age range?</td>\n",
       "      <td>26-35</td>\n",
       "      <td>2.0</td>\n",
       "      <td>What is the highest level of school you have c...</td>\n",
       "      <td>Four year college degree/bachelor’s degree</td>\n",
       "      <td>3.0</td>\n",
       "      <td>Last year what was your total family income fr...</td>\n",
       "      <td>10,000 to less than 20,000</td>\n",
       "      <td>1.0</td>\n",
       "      <td>In general, would you describe your political ...</td>\n",
       "      <td>Very liberal</td>\n",
       "      <td>4.0</td>\n",
       "      <td>In politics today, do you consider yourself a</td>\n",
       "      <td>Democrat</td>\n",
       "      <td>1.0</td>\n",
       "      <td>Should the U.S. build a wall along the souther...</td>\n",
       "      <td>Disagree</td>\n",
       "      <td>1.0</td>\n",
       "      <td>Should the government increase environmental r...</td>\n",
       "      <td>Agree</td>\n",
       "      <td>0.0</td>\n",
       "      <td>20.68</td>\n",
       "      <td>1</td>\n",
       "      <td>If three farmers can plant three trees in thre...</td>\n",
       "      <td>NaN</td>\n",
       "      <td>3.0</td>\n",
       "      <td>16.61</td>\n",
       "      <td>1</td>\n",
       "      <td>Sean received both the 5th highest and the 5th...</td>\n",
       "      <td>NaN</td>\n",
       "      <td>1.0</td>\n",
       "      <td>17.34</td>\n",
       "      <td>1</td>\n",
       "      <td>In an athletics team, females are four times m...</td>\n",
       "      <td>NaN</td>\n",
       "      <td>5.0</td>\n",
       "      <td>27.11</td>\n",
       "      <td>1</td>\n",
       "      <td>3.0</td>\n",
       "      <td>DEM_MOSTLYTRUE_doc2</td>\n",
       "      <td>Since 2009 weve cut homelessness among veteran...</td>\n",
       "      <td>Barack Obama</td>\n",
       "      <td>2015.0</td>\n",
       "      <td>an interview</td>\n",
       "      <td>3.0</td>\n",
       "      <td>NaN</td>\n",
       "      <td>NaN</td>\n",
       "      <td>mostly-true</td>\n",
       "      <td>politifact</td>\n",
       "      <td>2.0</td>\n",
       "      <td>completely-agree</td>\n",
       "      <td>NaN</td>\n",
       "      <td>https://www.citylab.com/equity/2016/11/homeles...</td>\n",
       "      <td>2.0</td>\n",
       "      <td>completely-agree</td>\n",
       "      <td>NaN</td>\n",
       "      <td>NaN</td>\n",
       "      <td>2.0</td>\n",
       "      <td>completely-agree</td>\n",
       "      <td>NaN</td>\n",
       "      <td>NaN</td>\n",
       "      <td>0.0</td>\n",
       "      <td>neither-agree-nor-disagree</td>\n",
       "      <td>NaN</td>\n",
       "      <td>NaN</td>\n",
       "      <td>1.0</td>\n",
       "      <td>agree</td>\n",
       "      <td>NaN</td>\n",
       "      <td>NaN</td>\n",
       "      <td>0.0</td>\n",
       "      <td>neither-agree-nor-disagree</td>\n",
       "      <td>NaN</td>\n",
       "      <td>NaN</td>\n",
       "      <td>0.0</td>\n",
       "      <td>neither-agree-nor-disagree</td>\n",
       "      <td>NaN</td>\n",
       "      <td>NaN</td>\n",
       "      <td>2.0</td>\n",
       "      <td>completely-agree</td>\n",
       "      <td>NaN</td>\n",
       "      <td>NaN</td>\n",
       "      <td>1.0</td>\n",
       "      <td>agree</td>\n",
       "      <td>NaN</td>\n",
       "      <td>NaN</td>\n",
       "      <td>1.0</td>\n",
       "      <td>83.53</td>\n",
       "      <td>1</td>\n",
       "      <td>0</td>\n",
       "      <td>0</td>\n",
       "      <td>1.0</td>\n",
       "    </tr>\n",
       "  </tbody>\n",
       "</table>\n",
       "</div>"
      ],
      "text/plain": [
       "       unit_id  tries_amount  questionnaire_amount  dimensions_amount  \\\n",
       "1658  unit_102            10                     4                  9   \n",
       "2038  unit_176            10                     4                  9   \n",
       "253    unit_47            10                     4                  9   \n",
       "7       unit_1            10                     4                  9   \n",
       "762   unit_139            10                     4                  9   \n",
       "\n",
       "      document_amount  current_try         q_0_age_question q_0_age_answer  \\\n",
       "1658               11            1  What is your age range?          36-50   \n",
       "2038               11            1  What is your age range?          50-80   \n",
       "253                11            1  What is your age range?          50-80   \n",
       "7                  11            1  What is your age range?          26-35   \n",
       "762                11            1  What is your age range?          26-35   \n",
       "\n",
       "      q_0_age_value                                q_0_school_question  \\\n",
       "1658            3.0  What is the highest level of school you have c...   \n",
       "2038            4.0  What is the highest level of school you have c...   \n",
       "253             4.0  What is the highest level of school you have c...   \n",
       "7               2.0  What is the highest level of school you have c...   \n",
       "762             2.0  What is the highest level of school you have c...   \n",
       "\n",
       "                                      q_0_school_answer  q_0_school_value  \\\n",
       "1658  Postgraduate or professional degree, including...               5.0   \n",
       "2038         Four year college degree/bachelor’s degree               3.0   \n",
       "253   Some college (some community college, associat...               2.0   \n",
       "7     Some college (some community college, associat...               2.0   \n",
       "762          Four year college degree/bachelor’s degree               3.0   \n",
       "\n",
       "                                     q_0_taxes_question  \\\n",
       "1658  Last year what was your total family income fr...   \n",
       "2038  Last year what was your total family income fr...   \n",
       "253   Last year what was your total family income fr...   \n",
       "7     Last year what was your total family income fr...   \n",
       "762   Last year what was your total family income fr...   \n",
       "\n",
       "                 q_0_taxes_answer  q_0_taxes_value  \\\n",
       "1658   40,000 to less than 50,000              4.0   \n",
       "2038  75,000 to less than 100,000              6.0   \n",
       "253    40,000 to less than 50,000              4.0   \n",
       "7      30,000 to less than 40,000              3.0   \n",
       "762    10,000 to less than 20,000              1.0   \n",
       "\n",
       "                           q_0_political_views_question  \\\n",
       "1658  In general, would you describe your political ...   \n",
       "2038  In general, would you describe your political ...   \n",
       "253   In general, would you describe your political ...   \n",
       "7     In general, would you describe your political ...   \n",
       "762   In general, would you describe your political ...   \n",
       "\n",
       "     q_0_political_views_answer  q_0_political_views_value  \\\n",
       "1658          Very conservative                        0.0   \n",
       "2038               Conservative                        1.0   \n",
       "253                     Liberal                        3.0   \n",
       "7                  Very liberal                        4.0   \n",
       "762                Very liberal                        4.0   \n",
       "\n",
       "                         q_0_consideration_question q_0_consideration_answer  \\\n",
       "1658  In politics today, do you consider yourself a               Republican   \n",
       "2038  In politics today, do you consider yourself a              Independent   \n",
       "253   In politics today, do you consider yourself a                 Democrat   \n",
       "7     In politics today, do you consider yourself a              Independent   \n",
       "762   In politics today, do you consider yourself a                 Democrat   \n",
       "\n",
       "      q_0_consideration_value  \\\n",
       "1658                      0.0   \n",
       "2038                      2.0   \n",
       "253                       1.0   \n",
       "7                         2.0   \n",
       "762                       1.0   \n",
       "\n",
       "                           q_0_southern_border_question  \\\n",
       "1658  Should the U.S. build a wall along the souther...   \n",
       "2038  Should the U.S. build a wall along the souther...   \n",
       "253   Should the U.S. build a wall along the souther...   \n",
       "7     Should the U.S. build a wall along the souther...   \n",
       "762   Should the U.S. build a wall along the souther...   \n",
       "\n",
       "     q_0_southern_border_answer  q_0_southern_border_value  \\\n",
       "1658                      Agree                        0.0   \n",
       "2038                   Disagree                        1.0   \n",
       "253                    Disagree                        1.0   \n",
       "7                      Disagree                        1.0   \n",
       "762                    Disagree                        1.0   \n",
       "\n",
       "                               q_0_environment_question  \\\n",
       "1658  Should the government increase environmental r...   \n",
       "2038  Should the government increase environmental r...   \n",
       "253   Should the government increase environmental r...   \n",
       "7     Should the government increase environmental r...   \n",
       "762   Should the government increase environmental r...   \n",
       "\n",
       "     q_0_environment_answer  q_0_environment_value  q_0_time_elapsed  \\\n",
       "1658                  Agree                    0.0            260.09   \n",
       "2038               Disagree                    1.0             43.02   \n",
       "253                   Agree                    0.0             24.16   \n",
       "7                     Agree                    0.0             38.60   \n",
       "762                   Agree                    0.0             20.68   \n",
       "\n",
       "      q_0_accesses                               q_1_farmers_question  \\\n",
       "1658             1  If three farmers can plant three trees in thre...   \n",
       "2038             1  If three farmers can plant three trees in thre...   \n",
       "253              1  If three farmers can plant three trees in thre...   \n",
       "7                1  If three farmers can plant three trees in thre...   \n",
       "762              1  If three farmers can plant three trees in thre...   \n",
       "\n",
       "      q_1_farmers_answer  q_1_farmers_value  q_1_time_elapsed  q_1_accesses  \\\n",
       "1658                 NaN                4.0              8.75             1   \n",
       "2038                 NaN                3.0             30.09             1   \n",
       "253                  NaN                3.0             25.80             1   \n",
       "7                    NaN                1.0             17.98             1   \n",
       "762                  NaN                3.0             16.61             1   \n",
       "\n",
       "                                     q_2_marks_question  q_2_marks_answer  \\\n",
       "1658  Sean received both the 5th highest and the 5th...               NaN   \n",
       "2038  Sean received both the 5th highest and the 5th...               NaN   \n",
       "253   Sean received both the 5th highest and the 5th...               NaN   \n",
       "7     Sean received both the 5th highest and the 5th...               NaN   \n",
       "762   Sean received both the 5th highest and the 5th...               NaN   \n",
       "\n",
       "      q_2_marks_value  q_2_time_elapsed  q_2_accesses  \\\n",
       "1658              2.0              7.70             1   \n",
       "2038              9.0             16.89             1   \n",
       "253               9.0             36.70             1   \n",
       "7                 9.0             23.91             1   \n",
       "762               1.0             17.34             1   \n",
       "\n",
       "                                 q_3_athletics_question  q_3_athletics_answer  \\\n",
       "1658  In an athletics team, females are four times m...                   NaN   \n",
       "2038  In an athletics team, females are four times m...                   NaN   \n",
       "253   In an athletics team, females are four times m...                   NaN   \n",
       "7     In an athletics team, females are four times m...                   NaN   \n",
       "762   In an athletics team, females are four times m...                   NaN   \n",
       "\n",
       "      q_3_athletics_value  q_3_time_elapsed  q_3_accesses  doc_index  \\\n",
       "1658                  1.0              8.03             1        8.0   \n",
       "2038                  4.0             20.55             1        3.0   \n",
       "253                   4.0             18.67             1        0.0   \n",
       "7                     4.0            274.19             1        7.0   \n",
       "762                   5.0             27.11             1        3.0   \n",
       "\n",
       "                  doc_name                                      doc_statement  \\\n",
       "1658   REP_MOSTLYTRUE_doc7  We in this state saw more job creation in the ...   \n",
       "2038                  HIGH                                       Yes, We can!   \n",
       "253    DEM_MOSTLYTRUE_doc5  Carly Fiorina shes against banning assault wea...   \n",
       "7     DEM_MOSTLYTRUE_doc10  Says in his years as a Texas legislator we pas...   \n",
       "762    DEM_MOSTLYTRUE_doc2  Since 2009 weve cut homelessness among veteran...   \n",
       "\n",
       "       doc_claimant  doc_date doc_originatedFrom  doc_ground_truth_value  \\\n",
       "1658   Scott Walker    2014.0     a news release                     2.0   \n",
       "2038   Barack Obama    2008.0  Public appearance                     1.0   \n",
       "253   Barbara Boxer    2010.0                 ad                     3.0   \n",
       "7       Paul Sadler    2012.0       social media                     4.0   \n",
       "762    Barack Obama    2015.0       an interview                     3.0   \n",
       "\n",
       "     doc_ground_truth_abc_label doc_ground_truth_abc_verdict  \\\n",
       "1658                        NaN                          NaN   \n",
       "2038                        NaN                          NaN   \n",
       "253                         NaN                          NaN   \n",
       "7                           NaN                          NaN   \n",
       "762                         NaN                          NaN   \n",
       "\n",
       "     doc_ground_truth_politifact_label     doc_source  \\\n",
       "1658                       mostly-true     politifact   \n",
       "2038                               NaN  gold_question   \n",
       "253                        mostly-true     politifact   \n",
       "7                          mostly-true     politifact   \n",
       "762                        mostly-true     politifact   \n",
       "\n",
       "      doc_overall-truthfulness_value doc_overall-truthfulness_label  \\\n",
       "1658                             0.0     neither-agree-nor-disagree   \n",
       "2038                             0.0     neither-agree-nor-disagree   \n",
       "253                              2.0               completely-agree   \n",
       "7                                2.0               completely-agree   \n",
       "762                              2.0               completely-agree   \n",
       "\n",
       "      doc_overall-truthfulness_justification  \\\n",
       "1658                                     NaN   \n",
       "2038                                     NaN   \n",
       "253                                      NaN   \n",
       "7                                        NaN   \n",
       "762                                      NaN   \n",
       "\n",
       "                           doc_overall-truthfulness_url  doc_confidence_value  \\\n",
       "1658  https://madison.com/ct/news/local/writers/jess...                   1.0   \n",
       "2038  https://www.washingtonpost.com/news/morning-mi...                   1.0   \n",
       "253   https://www.mercurynews.com/2010/06/29/fiorina...                   0.0   \n",
       "7     https://senate.ontheissues.org/Social/Paul_Sad...                   0.0   \n",
       "762   https://www.citylab.com/equity/2016/11/homeles...                   2.0   \n",
       "\n",
       "            doc_confidence_label  doc_confidence_justification  \\\n",
       "1658                       agree                           NaN   \n",
       "2038                       agree                           NaN   \n",
       "253   neither-agree-nor-disagree                           NaN   \n",
       "7     neither-agree-nor-disagree                           NaN   \n",
       "762             completely-agree                           NaN   \n",
       "\n",
       "      doc_confidence_url  doc_correctness_value       doc_correctness_label  \\\n",
       "1658                 NaN                    2.0            completely-agree   \n",
       "2038                 NaN                    0.0  neither-agree-nor-disagree   \n",
       "253                  NaN                    2.0            completely-agree   \n",
       "7                    NaN                    2.0            completely-agree   \n",
       "762                  NaN                    2.0            completely-agree   \n",
       "\n",
       "      doc_correctness_justification  doc_correctness_url  \\\n",
       "1658                            NaN                  NaN   \n",
       "2038                            NaN                  NaN   \n",
       "253                             NaN                  NaN   \n",
       "7                               NaN                  NaN   \n",
       "762                             NaN                  NaN   \n",
       "\n",
       "      doc_neutrality_value        doc_neutrality_label  \\\n",
       "1658                   1.0                       agree   \n",
       "2038                  -1.0                    disagree   \n",
       "253                    2.0            completely-agree   \n",
       "7                      2.0            completely-agree   \n",
       "762                    0.0  neither-agree-nor-disagree   \n",
       "\n",
       "      doc_neutrality_justification  doc_neutrality_url  \\\n",
       "1658                           NaN                 NaN   \n",
       "2038                           NaN                 NaN   \n",
       "253                            NaN                 NaN   \n",
       "7                              NaN                 NaN   \n",
       "762                            NaN                 NaN   \n",
       "\n",
       "      doc_comprehensibility_value doc_comprehensibility_label  \\\n",
       "1658                          0.0  neither-agree-nor-disagree   \n",
       "2038                         -1.0                    disagree   \n",
       "253                           2.0            completely-agree   \n",
       "7                             2.0            completely-agree   \n",
       "762                           1.0                       agree   \n",
       "\n",
       "      doc_comprehensibility_justification  doc_comprehensibility_url  \\\n",
       "1658                                  NaN                        NaN   \n",
       "2038                                  NaN                        NaN   \n",
       "253                                   NaN                        NaN   \n",
       "7                                     NaN                        NaN   \n",
       "762                                   NaN                        NaN   \n",
       "\n",
       "      doc_precision_value         doc_precision_label  \\\n",
       "1658                 -1.0                    disagree   \n",
       "2038                 -1.0                    disagree   \n",
       "253                   1.0                       agree   \n",
       "7                     2.0            completely-agree   \n",
       "762                   0.0  neither-agree-nor-disagree   \n",
       "\n",
       "      doc_precision_justification  doc_precision_url  doc_completeness_value  \\\n",
       "1658                          NaN                NaN                     0.0   \n",
       "2038                          NaN                NaN                    -2.0   \n",
       "253                           NaN                NaN                     1.0   \n",
       "7                             NaN                NaN                     2.0   \n",
       "762                           NaN                NaN                     0.0   \n",
       "\n",
       "          doc_completeness_label  doc_completeness_justification  \\\n",
       "1658  neither-agree-nor-disagree                             NaN   \n",
       "2038         completely-disagree                             NaN   \n",
       "253                        agree                             NaN   \n",
       "7               completely-agree                             NaN   \n",
       "762   neither-agree-nor-disagree                             NaN   \n",
       "\n",
       "      doc_completeness_url  doc_speaker's-trustworthiness_value  \\\n",
       "1658                   NaN                                  1.0   \n",
       "2038                   NaN                                 -1.0   \n",
       "253                    NaN                                  2.0   \n",
       "7                      NaN                                  2.0   \n",
       "762                    NaN                                  2.0   \n",
       "\n",
       "     doc_speaker's-trustworthiness_label  \\\n",
       "1658                               agree   \n",
       "2038                            disagree   \n",
       "253                     completely-agree   \n",
       "7                       completely-agree   \n",
       "762                     completely-agree   \n",
       "\n",
       "      doc_speaker's-trustworthiness_justification  \\\n",
       "1658                                          NaN   \n",
       "2038                                          NaN   \n",
       "253                                           NaN   \n",
       "7                                             NaN   \n",
       "762                                           NaN   \n",
       "\n",
       "      doc_speaker's-trustworthiness_url  doc_informativeness_value  \\\n",
       "1658                                NaN                        0.0   \n",
       "2038                                NaN                       -1.0   \n",
       "253                                 NaN                        1.0   \n",
       "7                                   NaN                        2.0   \n",
       "762                                 NaN                        1.0   \n",
       "\n",
       "       doc_informativeness_label  doc_informativeness_justification  \\\n",
       "1658  neither-agree-nor-disagree                                NaN   \n",
       "2038                    disagree                                NaN   \n",
       "253                        agree                                NaN   \n",
       "7               completely-agree                                NaN   \n",
       "762                        agree                                NaN   \n",
       "\n",
       "      doc_informativeness_url  doc_accesses  doc_time_elapsed  \\\n",
       "1658                      NaN           1.0             35.29   \n",
       "2038                      NaN           1.0             70.96   \n",
       "253                       NaN           1.0            262.26   \n",
       "7                         NaN           1.0             52.74   \n",
       "762                       NaN           1.0             83.53   \n",
       "\n",
       "      q_1_farmers_score  q_2_marks_score  q_3_athletics_score  \\\n",
       "1658                  0                0                    0   \n",
       "2038                  1                1                    0   \n",
       "253                   1                1                    0   \n",
       "7                     0                1                    0   \n",
       "762                   1                0                    0   \n",
       "\n",
       "      doc_assessment_error  \n",
       "1658                   0.0  \n",
       "2038                   1.0  \n",
       "253                    1.0  \n",
       "7                      0.0  \n",
       "762                    1.0  "
      ]
     },
     "execution_count": 113,
     "metadata": {},
     "output_type": "execute_result"
    }
   ],
   "source": [
    "import pandas as pd\n",
    "import seaborn as sns\n",
    "\n",
    "pd.set_option(\"display.max_columns\", 100)\n",
    "\n",
    "df = pd.read_csv(\"../data/multidimensional_with_crt.csv\")\n",
    "\n",
    "# compute the assessment error as the absolute difference between\n",
    "# the (rescaled) ground truth value and the overal truthfulness value\n",
    "df[\"doc_assessment_error\"] = abs((df[\"doc_ground_truth_value\"] - 2) - df[\"doc_overall-truthfulness_value\"])\n",
    "\n",
    "df.sample(5)"
   ]
  },
  {
   "cell_type": "code",
   "execution_count": 63,
   "metadata": {},
   "outputs": [
    {
     "data": {
      "text/plain": [
       "<AxesSubplot:xlabel='doc_assessment_error', ylabel='Percent'>"
      ]
     },
     "execution_count": 63,
     "metadata": {},
     "output_type": "execute_result"
    },
    {
     "data": {
      "image/png": "[encoded data removed]",
      "text/plain": [
       "<Figure size 432x288 with 1 Axes>"
      ]
     },
     "metadata": {
      "needs_background": "light"
     },
     "output_type": "display_data"
    }
   ],
   "source": [
    "sns.histplot(data=df[\"doc_assessment_error\"].astype(\"category\"), stat=\"percent\")"
   ]
  },
  {
   "cell_type": "markdown",
   "metadata": {},
   "source": [
    "Distribution of assessment error by different worker grouping methods."
   ]
  },
  {
   "cell_type": "code",
   "execution_count": 141,
   "metadata": {},
   "outputs": [
    {
     "data": {
      "text/plain": [
       "<AxesSubplot:xlabel='doc_assessment_error', ylabel='q_0_age_answer'>"
      ]
     },
     "execution_count": 141,
     "metadata": {},
     "output_type": "execute_result"
    },
    {
     "data": {
      "image/png": "[encoded data removed]",
      "text/plain": [
       "<Figure size 432x288 with 2 Axes>"
      ]
     },
     "metadata": {
      "needs_background": "light"
     },
     "output_type": "display_data"
    }
   ],
   "source": [
    "# workers in age range of [26, 35] and [36, 50] seams to be more reliable\n",
    "sns.histplot(y=\"q_0_age_answer\", x=\"doc_assessment_error\", data=df.sort_values(by=\"q_0_age_value\").astype(\"category\"), cbar=True)"
   ]
  },
  {
   "cell_type": "code",
   "execution_count": 142,
   "metadata": {},
   "outputs": [
    {
     "data": {
      "text/plain": [
       "<AxesSubplot:xlabel='doc_assessment_error', ylabel='q_0_school_answer'>"
      ]
     },
     "execution_count": 142,
     "metadata": {},
     "output_type": "execute_result"
    },
    {
     "data": {
      "image/png": "[encoded data removed]",
      "text/plain": [
       "<Figure size 432x288 with 2 Axes>"
      ]
     },
     "metadata": {
      "needs_background": "light"
     },
     "output_type": "display_data"
    }
   ],
   "source": [
    "# workers with higher education (level 4 and 5) seams to be more reliable\n",
    "sns.histplot(y=\"q_0_school_answer\", x=\"doc_assessment_error\", data=df.sort_values(by=\"q_0_school_value\").astype(\"category\"), cbar=True)"
   ]
  },
  {
   "cell_type": "code",
   "execution_count": 143,
   "metadata": {},
   "outputs": [
    {
     "data": {
      "text/plain": [
       "<AxesSubplot:xlabel='doc_assessment_error', ylabel='q_0_taxes_answer'>"
      ]
     },
     "execution_count": 143,
     "metadata": {},
     "output_type": "execute_result"
    },
    {
     "data": {
      "image/png": "[encoded data removed]",
      "text/plain": [
       "<Figure size 432x288 with 2 Axes>"
      ]
     },
     "metadata": {
      "needs_background": "light"
     },
     "output_type": "display_data"
    }
   ],
   "source": [
    "sns.histplot(y=\"q_0_taxes_answer\", x=\"doc_assessment_error\", data=df.sort_values(by=\"q_0_taxes_value\").astype(\"category\"), cbar=True)"
   ]
  },
  {
   "cell_type": "code",
   "execution_count": 144,
   "metadata": {},
   "outputs": [
    {
     "data": {
      "text/plain": [
       "<AxesSubplot:xlabel='doc_assessment_error', ylabel='q_0_political_views_answer'>"
      ]
     },
     "execution_count": 144,
     "metadata": {},
     "output_type": "execute_result"
    },
    {
     "data": {
      "image/png": "[encoded data removed]",
      "text/plain": [
       "<Figure size 432x288 with 2 Axes>"
      ]
     },
     "metadata": {
      "needs_background": "light"
     },
     "output_type": "display_data"
    }
   ],
   "source": [
    "sns.histplot(y=\"q_0_political_views_answer\", x=\"doc_assessment_error\", data=df.sort_values(by=\"q_0_political_views_value\").astype(\"category\"), cbar=True)"
   ]
  },
  {
   "cell_type": "code",
   "execution_count": 145,
   "metadata": {},
   "outputs": [
    {
     "data": {
      "text/plain": [
       "<AxesSubplot:xlabel='doc_assessment_error', ylabel='q_0_consideration_answer'>"
      ]
     },
     "execution_count": 145,
     "metadata": {},
     "output_type": "execute_result"
    },
    {
     "data": {
      "image/png": "[encoded data removed]",
      "text/plain": [
       "<Figure size 432x288 with 2 Axes>"
      ]
     },
     "metadata": {
      "needs_background": "light"
     },
     "output_type": "display_data"
    }
   ],
   "source": [
    "sns.histplot(y=\"q_0_consideration_answer\", x=\"doc_assessment_error\", data=df.sort_values(by=\"q_0_consideration_value\").astype(\"category\"), cbar=True)"
   ]
  },
  {
   "cell_type": "code",
   "execution_count": 146,
   "metadata": {},
   "outputs": [
    {
     "data": {
      "text/plain": [
       "<AxesSubplot:xlabel='doc_assessment_error', ylabel='q_0_southern_border_answer'>"
      ]
     },
     "execution_count": 146,
     "metadata": {},
     "output_type": "execute_result"
    },
    {
     "data": {
      "image/png": "[encoded data removed]",
      "text/plain": [
       "<Figure size 432x288 with 2 Axes>"
      ]
     },
     "metadata": {
      "needs_background": "light"
     },
     "output_type": "display_data"
    }
   ],
   "source": [
    "sns.histplot(y=\"q_0_southern_border_answer\", x=\"doc_assessment_error\", data=df.sort_values(by=\"q_0_southern_border_value\").astype(\"category\"), cbar=True)"
   ]
  },
  {
   "cell_type": "code",
   "execution_count": 147,
   "metadata": {},
   "outputs": [
    {
     "data": {
      "text/plain": [
       "<AxesSubplot:xlabel='doc_assessment_error', ylabel='q_0_environment_answer'>"
      ]
     },
     "execution_count": 147,
     "metadata": {},
     "output_type": "execute_result"
    },
    {
     "data": {
      "image/png": "[encoded data removed]",
      "text/plain": [
       "<Figure size 432x288 with 2 Axes>"
      ]
     },
     "metadata": {
      "needs_background": "light"
     },
     "output_type": "display_data"
    }
   ],
   "source": [
    "sns.histplot(y=\"q_0_environment_answer\", x=\"doc_assessment_error\", data=df.sort_values(by=\"q_0_environment_value\").astype(\"category\"), cbar=True)"
   ]
  },
  {
   "cell_type": "code",
   "execution_count": 154,
   "metadata": {},
   "outputs": [
    {
     "data": {
      "text/plain": [
       "<AxesSubplot:xlabel='doc_assessment_error', ylabel='q_1_farmers_score'>"
      ]
     },
     "execution_count": 154,
     "metadata": {},
     "output_type": "execute_result"
    },
    {
     "data": {
      "image/png": "[encoded data removed]",
      "text/plain": [
       "<Figure size 432x288 with 2 Axes>"
      ]
     },
     "metadata": {
      "needs_background": "light"
     },
     "output_type": "display_data"
    }
   ],
   "source": [
    "sns.histplot(y=\"q_1_farmers_score\", x=\"doc_assessment_error\", data=df.astype(\"category\"), cbar=True)"
   ]
  },
  {
   "cell_type": "code",
   "execution_count": 155,
   "metadata": {},
   "outputs": [
    {
     "data": {
      "text/plain": [
       "<AxesSubplot:xlabel='doc_assessment_error', ylabel='q_2_marks_score'>"
      ]
     },
     "execution_count": 155,
     "metadata": {},
     "output_type": "execute_result"
    },
    {
     "data": {
      "image/png": "[encoded data removed]",
      "text/plain": [
       "<Figure size 432x288 with 2 Axes>"
      ]
     },
     "metadata": {
      "needs_background": "light"
     },
     "output_type": "display_data"
    }
   ],
   "source": [
    "sns.histplot(y=\"q_2_marks_score\", x=\"doc_assessment_error\", data=df.astype(\"category\"), cbar=True)"
   ]
  },
  {
   "cell_type": "code",
   "execution_count": 156,
   "metadata": {},
   "outputs": [
    {
     "data": {
      "text/plain": [
       "<AxesSubplot:xlabel='doc_assessment_error', ylabel='q_3_athletics_score'>"
      ]
     },
     "execution_count": 156,
     "metadata": {},
     "output_type": "execute_result"
    },
    {
     "data": {
      "image/png": "[encoded data removed]",
      "text/plain": [
       "<Figure size 432x288 with 2 Axes>"
      ]
     },
     "metadata": {
      "needs_background": "light"
     },
     "output_type": "display_data"
    }
   ],
   "source": [
    "sns.histplot(y=\"q_3_athletics_score\", x=\"doc_assessment_error\", data=df.astype(\"category\"), cbar=True)"
   ]
  },
  {
   "cell_type": "code",
   "execution_count": 139,
   "metadata": {},
   "outputs": [
    {
     "data": {
      "text/plain": [
       "<AxesSubplot:xlabel='doc_assessment_error', ylabel='doc_confidence_label'>"
      ]
     },
     "execution_count": 139,
     "metadata": {},
     "output_type": "execute_result"
    },
    {
     "data": {
      "image/png": "[encoded data removed]",
      "text/plain": [
       "<Figure size 432x288 with 2 Axes>"
      ]
     },
     "metadata": {
      "needs_background": "light"
     },
     "output_type": "display_data"
    }
   ],
   "source": [
    "sns.histplot(x=\"doc_assessment_error\", y=\"doc_confidence_label\", data=df.sort_values(by=\"doc_confidence_value\").astype(\"category\"), cbar=True)"
   ]
  },
  {
   "cell_type": "code",
   "execution_count": 151,
   "metadata": {},
   "outputs": [
    {
     "data": {
      "text/plain": [
       "<AxesSubplot:xlabel='doc_assessment_error', ylabel='doc_time_elapsed'>"
      ]
     },
     "execution_count": 151,
     "metadata": {},
     "output_type": "execute_result"
    },
    {
     "data": {
      "image/png": "[encoded data removed]",
      "text/plain": [
       "<Figure size 432x288 with 1 Axes>"
      ]
     },
     "metadata": {
      "needs_background": "light"
     },
     "output_type": "display_data"
    }
   ],
   "source": [
    "sns.stripplot(x=\"doc_assessment_error\", y=\"doc_time_elapsed\", data=df)"
   ]
  }
 ],
 "metadata": {
  "interpreter": {
   "hash": "3cbba820b4bdb590734698efdc149bc5c36a8b69601907c59af4d958a3ed7267"
  },
  "kernelspec": {
   "display_name": "Python 3.9.10 ('eda')",
   "language": "python",
   "name": "python3"
  },
  "language_info": {
   "codemirror_mode": {
    "name": "ipython",
    "version": 3
   },
   "file_extension": ".py",
   "mimetype": "text/x-python",
   "name": "python",
   "nbconvert_exporter": "python",
   "pygments_lexer": "ipython3",
   "version": "3.9.10"
  },
  "orig_nbformat": 4
 },
 "nbformat": 4,
 "nbformat_minor": 2
}
