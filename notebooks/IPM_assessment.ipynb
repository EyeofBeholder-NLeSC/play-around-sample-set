{
 "cells": [
  {
   "cell_type": "code",
   "execution_count": 67,
   "metadata": {},
   "outputs": [
    {
     "data": {
      "text/html": [
       "<div>\n",
       "<style scoped>\n",
       "    .dataframe tbody tr th:only-of-type {\n",
       "        vertical-align: middle;\n",
       "    }\n",
       "\n",
       "    .dataframe tbody tr th {\n",
       "        vertical-align: top;\n",
       "    }\n",
       "\n",
       "    .dataframe thead th {\n",
       "        text-align: right;\n",
       "    }\n",
       "</style>\n",
       "<table border=\"1\" class=\"dataframe\">\n",
       "  <thead>\n",
       "    <tr style=\"text-align: right;\">\n",
       "      <th></th>\n",
       "      <th>unit_id</th>\n",
       "      <th>doc_ground_truth_value</th>\n",
       "      <th>doc_overall-truthfulness_value</th>\n",
       "      <th>doc_confidence_value</th>\n",
       "      <th>doc_correctness_value</th>\n",
       "      <th>doc_neutrality_value</th>\n",
       "      <th>doc_comprehensibility_value</th>\n",
       "      <th>doc_precision_value</th>\n",
       "      <th>doc_completeness_value</th>\n",
       "      <th>doc_speaker's-trustworthiness_value</th>\n",
       "      <th>doc_informativeness_value</th>\n",
       "      <th>doc_time_elapsed</th>\n",
       "      <th>doc_accesses</th>\n",
       "      <th>doc_assessment_quality</th>\n",
       "    </tr>\n",
       "  </thead>\n",
       "  <tbody>\n",
       "    <tr>\n",
       "      <th>0</th>\n",
       "      <td>unit_1</td>\n",
       "      <td>1.0</td>\n",
       "      <td>1.0</td>\n",
       "      <td>-1.0</td>\n",
       "      <td>1.0</td>\n",
       "      <td>1.0</td>\n",
       "      <td>1.0</td>\n",
       "      <td>1.0</td>\n",
       "      <td>-1.0</td>\n",
       "      <td>0.0</td>\n",
       "      <td>1.0</td>\n",
       "      <td>175.61</td>\n",
       "      <td>1.0</td>\n",
       "      <td>2</td>\n",
       "    </tr>\n",
       "    <tr>\n",
       "      <th>1</th>\n",
       "      <td>unit_1</td>\n",
       "      <td>2.0</td>\n",
       "      <td>2.0</td>\n",
       "      <td>0.0</td>\n",
       "      <td>2.0</td>\n",
       "      <td>-1.0</td>\n",
       "      <td>2.0</td>\n",
       "      <td>2.0</td>\n",
       "      <td>2.0</td>\n",
       "      <td>2.0</td>\n",
       "      <td>2.0</td>\n",
       "      <td>88.39</td>\n",
       "      <td>1.0</td>\n",
       "      <td>2</td>\n",
       "    </tr>\n",
       "    <tr>\n",
       "      <th>2</th>\n",
       "      <td>unit_1</td>\n",
       "      <td>1.0</td>\n",
       "      <td>2.0</td>\n",
       "      <td>0.0</td>\n",
       "      <td>0.0</td>\n",
       "      <td>-1.0</td>\n",
       "      <td>2.0</td>\n",
       "      <td>2.0</td>\n",
       "      <td>-1.0</td>\n",
       "      <td>0.0</td>\n",
       "      <td>1.0</td>\n",
       "      <td>84.60</td>\n",
       "      <td>1.0</td>\n",
       "      <td>1</td>\n",
       "    </tr>\n",
       "    <tr>\n",
       "      <th>3</th>\n",
       "      <td>unit_1</td>\n",
       "      <td>0.0</td>\n",
       "      <td>2.0</td>\n",
       "      <td>2.0</td>\n",
       "      <td>2.0</td>\n",
       "      <td>2.0</td>\n",
       "      <td>2.0</td>\n",
       "      <td>2.0</td>\n",
       "      <td>2.0</td>\n",
       "      <td>2.0</td>\n",
       "      <td>0.0</td>\n",
       "      <td>53.41</td>\n",
       "      <td>1.0</td>\n",
       "      <td>0</td>\n",
       "    </tr>\n",
       "    <tr>\n",
       "      <th>4</th>\n",
       "      <td>unit_1</td>\n",
       "      <td>2.0</td>\n",
       "      <td>0.0</td>\n",
       "      <td>-1.0</td>\n",
       "      <td>0.0</td>\n",
       "      <td>2.0</td>\n",
       "      <td>2.0</td>\n",
       "      <td>2.0</td>\n",
       "      <td>2.0</td>\n",
       "      <td>0.0</td>\n",
       "      <td>2.0</td>\n",
       "      <td>361.84</td>\n",
       "      <td>1.0</td>\n",
       "      <td>0</td>\n",
       "    </tr>\n",
       "  </tbody>\n",
       "</table>\n",
       "</div>"
      ],
      "text/plain": [
       "  unit_id  doc_ground_truth_value  doc_overall-truthfulness_value  \\\n",
       "0  unit_1                     1.0                             1.0   \n",
       "1  unit_1                     2.0                             2.0   \n",
       "2  unit_1                     1.0                             2.0   \n",
       "3  unit_1                     0.0                             2.0   \n",
       "4  unit_1                     2.0                             0.0   \n",
       "\n",
       "   doc_confidence_value  doc_correctness_value  doc_neutrality_value  \\\n",
       "0                  -1.0                    1.0                   1.0   \n",
       "1                   0.0                    2.0                  -1.0   \n",
       "2                   0.0                    0.0                  -1.0   \n",
       "3                   2.0                    2.0                   2.0   \n",
       "4                  -1.0                    0.0                   2.0   \n",
       "\n",
       "   doc_comprehensibility_value  doc_precision_value  doc_completeness_value  \\\n",
       "0                          1.0                  1.0                    -1.0   \n",
       "1                          2.0                  2.0                     2.0   \n",
       "2                          2.0                  2.0                    -1.0   \n",
       "3                          2.0                  2.0                     2.0   \n",
       "4                          2.0                  2.0                     2.0   \n",
       "\n",
       "   doc_speaker's-trustworthiness_value  doc_informativeness_value  \\\n",
       "0                                  0.0                        1.0   \n",
       "1                                  2.0                        2.0   \n",
       "2                                  0.0                        1.0   \n",
       "3                                  2.0                        0.0   \n",
       "4                                  0.0                        2.0   \n",
       "\n",
       "   doc_time_elapsed  doc_accesses  doc_assessment_quality  \n",
       "0            175.61           1.0                       2  \n",
       "1             88.39           1.0                       2  \n",
       "2             84.60           1.0                       1  \n",
       "3             53.41           1.0                       0  \n",
       "4            361.84           1.0                       0  "
      ]
     },
     "execution_count": 67,
     "metadata": {},
     "output_type": "execute_result"
    }
   ],
   "source": [
    "import pandas as pd\n",
    "import matplotlib.pyplot as plt\n",
    "import seaborn as sns\n",
    "import numpy as np\n",
    "\n",
    "data_fpath = \"../data/IPM_assessment.csv\"\n",
    "pd.set_option('display.max_columns', 100)\n",
    "pd.set_option(\"display.max_colwidth\", 500)\n",
    "df = pd.read_csv(data_fpath)\n",
    "df.head()"
   ]
  },
  {
   "cell_type": "code",
   "execution_count": 68,
   "metadata": {},
   "outputs": [
    {
     "data": {
      "text/html": [
       "<div>\n",
       "<style scoped>\n",
       "    .dataframe tbody tr th:only-of-type {\n",
       "        vertical-align: middle;\n",
       "    }\n",
       "\n",
       "    .dataframe tbody tr th {\n",
       "        vertical-align: top;\n",
       "    }\n",
       "\n",
       "    .dataframe thead th {\n",
       "        text-align: right;\n",
       "    }\n",
       "</style>\n",
       "<table border=\"1\" class=\"dataframe\">\n",
       "  <thead>\n",
       "    <tr style=\"text-align: right;\">\n",
       "      <th></th>\n",
       "      <th>doc_ground_truth_value</th>\n",
       "      <th>doc_overall-truthfulness_value</th>\n",
       "      <th>doc_confidence_value</th>\n",
       "      <th>doc_correctness_value</th>\n",
       "      <th>doc_neutrality_value</th>\n",
       "      <th>doc_comprehensibility_value</th>\n",
       "      <th>doc_precision_value</th>\n",
       "      <th>doc_completeness_value</th>\n",
       "      <th>doc_speaker's-trustworthiness_value</th>\n",
       "      <th>doc_informativeness_value</th>\n",
       "      <th>doc_time_elapsed</th>\n",
       "      <th>doc_accesses</th>\n",
       "      <th>doc_assessment_quality</th>\n",
       "    </tr>\n",
       "  </thead>\n",
       "  <tbody>\n",
       "    <tr>\n",
       "      <th>count</th>\n",
       "      <td>2200.000000</td>\n",
       "      <td>2200.000000</td>\n",
       "      <td>2200.000000</td>\n",
       "      <td>2200.000000</td>\n",
       "      <td>2200.000000</td>\n",
       "      <td>2200.000000</td>\n",
       "      <td>2200.000000</td>\n",
       "      <td>2200.000000</td>\n",
       "      <td>2200.000000</td>\n",
       "      <td>2200.000000</td>\n",
       "      <td>2198.000000</td>\n",
       "      <td>2200.000000</td>\n",
       "      <td>2200.000000</td>\n",
       "    </tr>\n",
       "    <tr>\n",
       "      <th>mean</th>\n",
       "      <td>0.387273</td>\n",
       "      <td>0.385000</td>\n",
       "      <td>0.044091</td>\n",
       "      <td>0.328182</td>\n",
       "      <td>0.149091</td>\n",
       "      <td>0.811364</td>\n",
       "      <td>0.489545</td>\n",
       "      <td>0.253636</td>\n",
       "      <td>0.352273</td>\n",
       "      <td>0.387273</td>\n",
       "      <td>111.261292</td>\n",
       "      <td>1.035455</td>\n",
       "      <td>1.138182</td>\n",
       "    </tr>\n",
       "    <tr>\n",
       "      <th>std</th>\n",
       "      <td>1.207082</td>\n",
       "      <td>1.302201</td>\n",
       "      <td>1.347479</td>\n",
       "      <td>1.259264</td>\n",
       "      <td>1.276844</td>\n",
       "      <td>1.115991</td>\n",
       "      <td>1.222005</td>\n",
       "      <td>1.258797</td>\n",
       "      <td>1.194955</td>\n",
       "      <td>1.207082</td>\n",
       "      <td>104.897821</td>\n",
       "      <td>0.226922</td>\n",
       "      <td>0.908750</td>\n",
       "    </tr>\n",
       "    <tr>\n",
       "      <th>min</th>\n",
       "      <td>-2.000000</td>\n",
       "      <td>-2.000000</td>\n",
       "      <td>-2.000000</td>\n",
       "      <td>-2.000000</td>\n",
       "      <td>-2.000000</td>\n",
       "      <td>-2.000000</td>\n",
       "      <td>-2.000000</td>\n",
       "      <td>-2.000000</td>\n",
       "      <td>-2.000000</td>\n",
       "      <td>-2.000000</td>\n",
       "      <td>17.590000</td>\n",
       "      <td>1.000000</td>\n",
       "      <td>0.000000</td>\n",
       "    </tr>\n",
       "    <tr>\n",
       "      <th>25%</th>\n",
       "      <td>0.000000</td>\n",
       "      <td>-1.000000</td>\n",
       "      <td>-1.000000</td>\n",
       "      <td>-1.000000</td>\n",
       "      <td>-1.000000</td>\n",
       "      <td>0.000000</td>\n",
       "      <td>0.000000</td>\n",
       "      <td>-1.000000</td>\n",
       "      <td>0.000000</td>\n",
       "      <td>0.000000</td>\n",
       "      <td>49.355000</td>\n",
       "      <td>1.000000</td>\n",
       "      <td>0.000000</td>\n",
       "    </tr>\n",
       "    <tr>\n",
       "      <th>50%</th>\n",
       "      <td>1.000000</td>\n",
       "      <td>1.000000</td>\n",
       "      <td>0.000000</td>\n",
       "      <td>1.000000</td>\n",
       "      <td>0.000000</td>\n",
       "      <td>1.000000</td>\n",
       "      <td>1.000000</td>\n",
       "      <td>0.000000</td>\n",
       "      <td>0.000000</td>\n",
       "      <td>1.000000</td>\n",
       "      <td>81.835000</td>\n",
       "      <td>1.000000</td>\n",
       "      <td>1.000000</td>\n",
       "    </tr>\n",
       "    <tr>\n",
       "      <th>75%</th>\n",
       "      <td>1.000000</td>\n",
       "      <td>1.000000</td>\n",
       "      <td>1.000000</td>\n",
       "      <td>1.000000</td>\n",
       "      <td>1.000000</td>\n",
       "      <td>2.000000</td>\n",
       "      <td>1.000000</td>\n",
       "      <td>1.000000</td>\n",
       "      <td>1.000000</td>\n",
       "      <td>1.000000</td>\n",
       "      <td>135.362500</td>\n",
       "      <td>1.000000</td>\n",
       "      <td>2.000000</td>\n",
       "    </tr>\n",
       "    <tr>\n",
       "      <th>max</th>\n",
       "      <td>2.000000</td>\n",
       "      <td>2.000000</td>\n",
       "      <td>2.000000</td>\n",
       "      <td>2.000000</td>\n",
       "      <td>2.000000</td>\n",
       "      <td>2.000000</td>\n",
       "      <td>2.000000</td>\n",
       "      <td>2.000000</td>\n",
       "      <td>2.000000</td>\n",
       "      <td>2.000000</td>\n",
       "      <td>1388.600000</td>\n",
       "      <td>3.000000</td>\n",
       "      <td>2.000000</td>\n",
       "    </tr>\n",
       "  </tbody>\n",
       "</table>\n",
       "</div>"
      ],
      "text/plain": [
       "       doc_ground_truth_value  doc_overall-truthfulness_value  \\\n",
       "count             2200.000000                     2200.000000   \n",
       "mean                 0.387273                        0.385000   \n",
       "std                  1.207082                        1.302201   \n",
       "min                 -2.000000                       -2.000000   \n",
       "25%                  0.000000                       -1.000000   \n",
       "50%                  1.000000                        1.000000   \n",
       "75%                  1.000000                        1.000000   \n",
       "max                  2.000000                        2.000000   \n",
       "\n",
       "       doc_confidence_value  doc_correctness_value  doc_neutrality_value  \\\n",
       "count           2200.000000            2200.000000           2200.000000   \n",
       "mean               0.044091               0.328182              0.149091   \n",
       "std                1.347479               1.259264              1.276844   \n",
       "min               -2.000000              -2.000000             -2.000000   \n",
       "25%               -1.000000              -1.000000             -1.000000   \n",
       "50%                0.000000               1.000000              0.000000   \n",
       "75%                1.000000               1.000000              1.000000   \n",
       "max                2.000000               2.000000              2.000000   \n",
       "\n",
       "       doc_comprehensibility_value  doc_precision_value  \\\n",
       "count                  2200.000000          2200.000000   \n",
       "mean                      0.811364             0.489545   \n",
       "std                       1.115991             1.222005   \n",
       "min                      -2.000000            -2.000000   \n",
       "25%                       0.000000             0.000000   \n",
       "50%                       1.000000             1.000000   \n",
       "75%                       2.000000             1.000000   \n",
       "max                       2.000000             2.000000   \n",
       "\n",
       "       doc_completeness_value  doc_speaker's-trustworthiness_value  \\\n",
       "count             2200.000000                          2200.000000   \n",
       "mean                 0.253636                             0.352273   \n",
       "std                  1.258797                             1.194955   \n",
       "min                 -2.000000                            -2.000000   \n",
       "25%                 -1.000000                             0.000000   \n",
       "50%                  0.000000                             0.000000   \n",
       "75%                  1.000000                             1.000000   \n",
       "max                  2.000000                             2.000000   \n",
       "\n",
       "       doc_informativeness_value  doc_time_elapsed  doc_accesses  \\\n",
       "count                2200.000000       2198.000000   2200.000000   \n",
       "mean                    0.387273        111.261292      1.035455   \n",
       "std                     1.207082        104.897821      0.226922   \n",
       "min                    -2.000000         17.590000      1.000000   \n",
       "25%                     0.000000         49.355000      1.000000   \n",
       "50%                     1.000000         81.835000      1.000000   \n",
       "75%                     1.000000        135.362500      1.000000   \n",
       "max                     2.000000       1388.600000      3.000000   \n",
       "\n",
       "       doc_assessment_quality  \n",
       "count             2200.000000  \n",
       "mean                 1.138182  \n",
       "std                  0.908750  \n",
       "min                  0.000000  \n",
       "25%                  0.000000  \n",
       "50%                  1.000000  \n",
       "75%                  2.000000  \n",
       "max                  2.000000  "
      ]
     },
     "execution_count": 68,
     "metadata": {},
     "output_type": "execute_result"
    }
   ],
   "source": [
    "df.describe()"
   ]
  },
  {
   "cell_type": "code",
   "execution_count": 69,
   "metadata": {},
   "outputs": [
    {
     "data": {
      "text/plain": [
       "<AxesSubplot:>"
      ]
     },
     "execution_count": 69,
     "metadata": {},
     "output_type": "execute_result"
    },
    {
     "data": {
      "image/png": "[encoded data removed]",
      "text/plain": [
       "<Figure size 432x288 with 2 Axes>"
      ]
     },
     "metadata": {
      "needs_background": "light"
     },
     "output_type": "display_data"
    }
   ],
   "source": [
    "df_relevant = df[[\n",
    "    \"doc_ground_truth_value\", \n",
    "    \"doc_overall-truthfulness_value\", \n",
    "    \"doc_correctness_value\", \n",
    "    \"doc_neutrality_value\", \n",
    "    \"doc_comprehensibility_value\", \n",
    "    \"doc_precision_value\", \n",
    "    \"doc_completeness_value\", \n",
    "    \"doc_speaker's-trustworthiness_value\", \n",
    "    \"doc_informativeness_value\", \n",
    "]]\n",
    "\n",
    "sns.heatmap(df_relevant.corr(), annot=True)"
   ]
  },
  {
   "cell_type": "code",
   "execution_count": 71,
   "metadata": {},
   "outputs": [
    {
     "data": {
      "text/plain": [
       "<AxesSubplot:xlabel='doc_informativeness_value', ylabel='doc_ground_truth_value'>"
      ]
     },
     "execution_count": 71,
     "metadata": {},
     "output_type": "execute_result"
    },
    {
     "data": {
      "image/png": "[encoded data removed]",
      "text/plain": [
       "<Figure size 432x288 with 2 Axes>"
      ]
     },
     "metadata": {
      "needs_background": "light"
     },
     "output_type": "display_data"
    }
   ],
   "source": [
    "sns.heatmap(pd.crosstab(\n",
    "    df[\"doc_ground_truth_value\"], df[\"doc_informativeness_value\"]\n",
    "    ), annot=True)"
   ]
  },
  {
   "cell_type": "code",
   "execution_count": 72,
   "metadata": {},
   "outputs": [
    {
     "data": {
      "text/plain": [
       "<AxesSubplot:xlabel='doc_correctness_value', ylabel='doc_overall-truthfulness_value'>"
      ]
     },
     "execution_count": 72,
     "metadata": {},
     "output_type": "execute_result"
    },
    {
     "data": {
      "image/png": "[encoded data removed]",
      "text/plain": [
       "<Figure size 432x288 with 2 Axes>"
      ]
     },
     "metadata": {
      "needs_background": "light"
     },
     "output_type": "display_data"
    }
   ],
   "source": [
    "sns.heatmap(pd.crosstab(\n",
    "    df[\"doc_overall-truthfulness_value\"], df[\"doc_correctness_value\"]\n",
    "    ), annot=True)"
   ]
  },
  {
   "cell_type": "code",
   "execution_count": 73,
   "metadata": {},
   "outputs": [
    {
     "data": {
      "text/html": [
       "<div>\n",
       "<style scoped>\n",
       "    .dataframe tbody tr th:only-of-type {\n",
       "        vertical-align: middle;\n",
       "    }\n",
       "\n",
       "    .dataframe tbody tr th {\n",
       "        vertical-align: top;\n",
       "    }\n",
       "\n",
       "    .dataframe thead th {\n",
       "        text-align: right;\n",
       "    }\n",
       "</style>\n",
       "<table border=\"1\" class=\"dataframe\">\n",
       "  <thead>\n",
       "    <tr style=\"text-align: right;\">\n",
       "      <th></th>\n",
       "      <th>doc_confidence_value</th>\n",
       "      <th>doc_assessment_quality</th>\n",
       "    </tr>\n",
       "  </thead>\n",
       "  <tbody>\n",
       "    <tr>\n",
       "      <th>doc_confidence_value</th>\n",
       "      <td>1.000000</td>\n",
       "      <td>0.092322</td>\n",
       "    </tr>\n",
       "    <tr>\n",
       "      <th>doc_assessment_quality</th>\n",
       "      <td>0.092322</td>\n",
       "      <td>1.000000</td>\n",
       "    </tr>\n",
       "  </tbody>\n",
       "</table>\n",
       "</div>"
      ],
      "text/plain": [
       "                        doc_confidence_value  doc_assessment_quality\n",
       "doc_confidence_value                1.000000                0.092322\n",
       "doc_assessment_quality              0.092322                1.000000"
      ]
     },
     "execution_count": 73,
     "metadata": {},
     "output_type": "execute_result"
    }
   ],
   "source": [
    "# low correlation between worker's confidence and the assessment quality\n",
    "df[[\"doc_confidence_value\", \"doc_assessment_quality\"]].corr()"
   ]
  },
  {
   "cell_type": "code",
   "execution_count": 75,
   "metadata": {},
   "outputs": [
    {
     "data": {
      "text/plain": [
       "<AxesSubplot:xlabel='doc_assessment_quality', ylabel='Percent'>"
      ]
     },
     "execution_count": 75,
     "metadata": {},
     "output_type": "execute_result"
    },
    {
     "data": {
      "image/png": "[encoded data removed]",
      "text/plain": [
       "<Figure size 432x288 with 1 Axes>"
      ]
     },
     "metadata": {
      "needs_background": "light"
     },
     "output_type": "display_data"
    }
   ],
   "source": [
    "sns.histplot(data=df, x=\"doc_assessment_quality\", stat=\"percent\")"
   ]
  },
  {
   "cell_type": "code",
   "execution_count": 92,
   "metadata": {},
   "outputs": [
    {
     "name": "stdout",
     "output_type": "stream",
     "text": [
      "(2200, 14) (1081, 14)\n"
     ]
    },
    {
     "data": {
      "text/html": [
       "<div>\n",
       "<style scoped>\n",
       "    .dataframe tbody tr th:only-of-type {\n",
       "        vertical-align: middle;\n",
       "    }\n",
       "\n",
       "    .dataframe tbody tr th {\n",
       "        vertical-align: top;\n",
       "    }\n",
       "\n",
       "    .dataframe thead th {\n",
       "        text-align: right;\n",
       "    }\n",
       "</style>\n",
       "<table border=\"1\" class=\"dataframe\">\n",
       "  <thead>\n",
       "    <tr style=\"text-align: right;\">\n",
       "      <th></th>\n",
       "      <th>counts</th>\n",
       "    </tr>\n",
       "  </thead>\n",
       "  <tbody>\n",
       "    <tr>\n",
       "      <th>count</th>\n",
       "      <td>200.000000</td>\n",
       "    </tr>\n",
       "    <tr>\n",
       "      <th>mean</th>\n",
       "      <td>5.405000</td>\n",
       "    </tr>\n",
       "    <tr>\n",
       "      <th>std</th>\n",
       "      <td>2.455836</td>\n",
       "    </tr>\n",
       "    <tr>\n",
       "      <th>min</th>\n",
       "      <td>1.000000</td>\n",
       "    </tr>\n",
       "    <tr>\n",
       "      <th>25%</th>\n",
       "      <td>3.000000</td>\n",
       "    </tr>\n",
       "    <tr>\n",
       "      <th>50%</th>\n",
       "      <td>5.000000</td>\n",
       "    </tr>\n",
       "    <tr>\n",
       "      <th>75%</th>\n",
       "      <td>7.000000</td>\n",
       "    </tr>\n",
       "    <tr>\n",
       "      <th>max</th>\n",
       "      <td>11.000000</td>\n",
       "    </tr>\n",
       "  </tbody>\n",
       "</table>\n",
       "</div>"
      ],
      "text/plain": [
       "           counts\n",
       "count  200.000000\n",
       "mean     5.405000\n",
       "std      2.455836\n",
       "min      1.000000\n",
       "25%      3.000000\n",
       "50%      5.000000\n",
       "75%      7.000000\n",
       "max     11.000000"
      ]
     },
     "execution_count": 92,
     "metadata": {},
     "output_type": "execute_result"
    }
   ],
   "source": [
    "# exact match\n",
    "exact_match = df.loc[df[\"doc_ground_truth_value\"] == df[\"doc_overall-truthfulness_value\"]]\n",
    "print(df.shape, exact_match.shape)\n",
    "\n",
    "worker_quality = exact_match.groupby(\"unit_id\").size().reset_index(name=\"counts\").sort_values(by=\"counts\", ascending=False)\n",
    "worker_quality.to_csv(\"../data/IPM_worker_quality.csv\", index=False)\n",
    "worker_quality.describe()"
   ]
  }
 ],
 "metadata": {
  "interpreter": {
   "hash": "75dd2f06088b1ca876215a8dc5437a58bfedbb9256f5958ade652ea1226648e4"
  },
  "kernelspec": {
   "display_name": "Python 3.9.10 ('pyvis')",
   "language": "python",
   "name": "python3"
  },
  "language_info": {
   "codemirror_mode": {
    "name": "ipython",
    "version": 3
   },
   "file_extension": ".py",
   "mimetype": "text/x-python",
   "name": "python",
   "nbconvert_exporter": "python",
   "pygments_lexer": "ipython3",
   "version": "3.9.10"
  },
  "orig_nbformat": 4
 },
 "nbformat": 4,
 "nbformat_minor": 2
}
