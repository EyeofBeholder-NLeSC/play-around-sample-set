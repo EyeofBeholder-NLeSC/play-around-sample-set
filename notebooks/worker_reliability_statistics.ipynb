{
 "cells": [
  {
   "cell_type": "code",
   "execution_count": null,
   "metadata": {},
   "outputs": [],
   "source": [
    "# divide workers into groups based on their answer to the questionaire\n",
    "# statistics of error of assessment\n",
    "# see which group seams to be more reliable in general"
   ]
  }
 ],
 "metadata": {
  "language_info": {
   "name": "python"
  },
  "orig_nbformat": 4
 },
 "nbformat": 4,
 "nbformat_minor": 2
}
